{
 "metadata": {
  "language_info": {
   "codemirror_mode": {
    "name": "ipython",
    "version": 3
   },
   "file_extension": ".py",
   "mimetype": "text/x-python",
   "name": "python",
   "nbconvert_exporter": "python",
   "pygments_lexer": "ipython3",
   "version": "3.8.5"
  },
  "orig_nbformat": 2,
  "kernelspec": {
   "name": "python385jvsc74a57bd069ae1faf8d071295817930cd4dd112d51035d617709be1afa53f8ae3e70204c7",
   "display_name": "Python 3.8.5 64-bit ('data_science': conda)"
  }
 },
 "nbformat": 4,
 "nbformat_minor": 2,
 "cells": [
  {
   "source": [
    "https://github.com/alex-pro-dev/english-words-by-frequency"
   ],
   "cell_type": "markdown",
   "metadata": {}
  },
  {
   "cell_type": "code",
   "execution_count": 1,
   "metadata": {},
   "outputs": [],
   "source": [
    "with open('wiktionary_words.txt', encoding='utf-8') as f:\n",
    "    lines = f.readlines()"
   ]
  },
  {
   "cell_type": "code",
   "execution_count": 2,
   "metadata": {},
   "outputs": [],
   "source": [
    "for i in range(len(lines)):\n",
    "    lines[i] = tuple(lines[i].strip().split(' '))"
   ]
  },
  {
   "cell_type": "code",
   "execution_count": 3,
   "metadata": {},
   "outputs": [
    {
     "output_type": "stream",
     "name": "stderr",
     "text": [
      "100%|██████████| 280375/280375 [00:15<00:00, 18300.16it/s]\n"
     ]
    }
   ],
   "source": [
    "import pandas as pd\n",
    "from tqdm import tqdm, trange\n",
    "\n",
    "df = pd.DataFrame(columns=['word', 'len', 'freq', 'doc_freq'], index=list(range(len(lines))))\n",
    "\n",
    "for i in trange(len(lines)):\n",
    "    df.loc[i] = lines[i]"
   ]
  },
  {
   "cell_type": "code",
   "execution_count": 4,
   "metadata": {},
   "outputs": [],
   "source": [
    "df['word'] = df['word'].astype('str')\n",
    "df['len'] = df['len'].astype('int32')\n",
    "df['freq'] = df['freq'].astype('int32')\n",
    "df['doc_freq'] = df['doc_freq'].astype('int32')"
   ]
  },
  {
   "cell_type": "code",
   "execution_count": 5,
   "metadata": {},
   "outputs": [
    {
     "output_type": "execute_result",
     "data": {
      "text/plain": [
       "  word  len      freq  doc_freq\n",
       "0  the    3  32823802   4968822\n",
       "1   of    2  17445728   4279162\n",
       "2   in    2  15303921   4539676\n",
       "3  and    3  13537194   3886207\n",
       "4    a    1  11158752   4616521"
      ],
      "text/html": "<div>\n<style scoped>\n    .dataframe tbody tr th:only-of-type {\n        vertical-align: middle;\n    }\n\n    .dataframe tbody tr th {\n        vertical-align: top;\n    }\n\n    .dataframe thead th {\n        text-align: right;\n    }\n</style>\n<table border=\"1\" class=\"dataframe\">\n  <thead>\n    <tr style=\"text-align: right;\">\n      <th></th>\n      <th>word</th>\n      <th>len</th>\n      <th>freq</th>\n      <th>doc_freq</th>\n    </tr>\n  </thead>\n  <tbody>\n    <tr>\n      <th>0</th>\n      <td>the</td>\n      <td>3</td>\n      <td>32823802</td>\n      <td>4968822</td>\n    </tr>\n    <tr>\n      <th>1</th>\n      <td>of</td>\n      <td>2</td>\n      <td>17445728</td>\n      <td>4279162</td>\n    </tr>\n    <tr>\n      <th>2</th>\n      <td>in</td>\n      <td>2</td>\n      <td>15303921</td>\n      <td>4539676</td>\n    </tr>\n    <tr>\n      <th>3</th>\n      <td>and</td>\n      <td>3</td>\n      <td>13537194</td>\n      <td>3886207</td>\n    </tr>\n    <tr>\n      <th>4</th>\n      <td>a</td>\n      <td>1</td>\n      <td>11158752</td>\n      <td>4616521</td>\n    </tr>\n  </tbody>\n</table>\n</div>"
     },
     "metadata": {},
     "execution_count": 5
    }
   ],
   "source": [
    "df.head()"
   ]
  },
  {
   "cell_type": "code",
   "execution_count": 21,
   "metadata": {},
   "outputs": [],
   "source": [
    "df_subset = df[df.len>=9]"
   ]
  },
  {
   "cell_type": "code",
   "execution_count": 22,
   "metadata": {},
   "outputs": [],
   "source": [
    "df_subset = df_subset[df_subset.doc_freq>=16]"
   ]
  },
  {
   "cell_type": "code",
   "execution_count": 23,
   "metadata": {},
   "outputs": [
    {
     "output_type": "execute_result",
     "data": {
      "text/plain": [
       "46109"
      ]
     },
     "metadata": {},
     "execution_count": 23
    }
   ],
   "source": [
    "len(df_subset)"
   ]
  },
  {
   "cell_type": "code",
   "execution_count": 24,
   "metadata": {},
   "outputs": [
    {
     "output_type": "execute_result",
     "data": {
      "text/plain": [
       "45939"
      ]
     },
     "metadata": {},
     "execution_count": 24
    }
   ],
   "source": [
    "import re\n",
    "\n",
    "final_set = set()\n",
    "\n",
    "for w in df_subset.word:\n",
    "    w = w.strip().lower()\n",
    "    if not all(ord(c) < 128 for c in w):\n",
    "        continue\n",
    "    if w.startswith('-') or w.endswith('-'):\n",
    "        continue\n",
    "    if re.match('[a-zA-Z\\-\\s]*', w) is not None:\n",
    "        final_set.add(w)\n",
    "\n",
    "len(final_set)"
   ]
  },
  {
   "cell_type": "code",
   "execution_count": 25,
   "metadata": {},
   "outputs": [],
   "source": [
    "with open('corrector_dict.txt', 'wt') as f:\n",
    "    f.write(','.join(final_set))"
   ]
  }
 ]
}