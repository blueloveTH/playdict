{
 "metadata": {
  "language_info": {
   "codemirror_mode": {
    "name": "ipython",
    "version": 3
   },
   "file_extension": ".py",
   "mimetype": "text/x-python",
   "name": "python",
   "nbconvert_exporter": "python",
   "pygments_lexer": "ipython3",
   "version": "3.8.5"
  },
  "orig_nbformat": 2,
  "kernelspec": {
   "name": "python385jvsc74a57bd069ae1faf8d071295817930cd4dd112d51035d617709be1afa53f8ae3e70204c7",
   "display_name": "Python 3.8.5 64-bit ('data_science': conda)"
  }
 },
 "nbformat": 4,
 "nbformat_minor": 2,
 "cells": [
  {
   "cell_type": "code",
   "execution_count": null,
   "metadata": {},
   "outputs": [],
   "source": [
    "import multiprocessing as mp\n",
    "import os, sys\n",
    "import time\n",
    "from multiprocessing.context import Process\n",
    "\n",
    "import cv2\n",
    "\n",
    "from text_renderer.config import get_cfg, GeneratorCfg\n",
    "from text_renderer.dataset import ImgDataset\n",
    "from text_renderer.render import Render\n",
    "import matplotlib.pyplot as plt\n",
    "import numpy as np\n",
    "\n",
    "sys.path.append('../')\n",
    "\n",
    "from playdict_ocr.datasets import RecognizationDataset"
   ]
  },
  {
   "cell_type": "code",
   "execution_count": null,
   "metadata": {},
   "outputs": [],
   "source": [
    "from text_renderer.corpus import Corpus\n",
    "from playdict_ocr.word_generator import WordGenerator\n",
    "\n",
    "class GameOcrCorpus(Corpus):\n",
    "    def __init__(self, cfg):\n",
    "        super().__init__(cfg)\n",
    "        self.wg = WordGenerator()\n",
    "\n",
    "    def get_text(self):\n",
    "        return self.wg.generate_word()"
   ]
  },
  {
   "cell_type": "code",
   "execution_count": null,
   "metadata": {},
   "outputs": [],
   "source": [
    "from text_renderer.effect import *\n",
    "from text_renderer.corpus import *\n",
    "from text_renderer.config import (\n",
    "    RenderCfg,\n",
    "    NormPerspectiveTransformCfg,\n",
    "    GeneratorCfg,\n",
    "    SimpleTextColorCfg,\n",
    ")"
   ]
  },
  {
   "cell_type": "code",
   "execution_count": null,
   "metadata": {},
   "outputs": [],
   "source": [
    "import pathlib\n",
    "\n",
    "render_cfg = RenderCfg(\n",
    "    bg_dir=pathlib.Path(\"bg\"),\n",
    "    height=32,\n",
    "    perspective_transform=NormPerspectiveTransformCfg(20, 20, 1.5),\n",
    "    corpus=GameOcrCorpus(\n",
    "        RandCorpusCfg(\n",
    "            font_dir=pathlib.Path(\"font\"),\n",
    "            font_size=(32, 120),\n",
    "        ),\n",
    "    ),\n",
    "    gray=True,\n",
    "    #layout_effects=Padding(p=1, w_ratio=(0.0, 0.5), h_ratio=(0.0, 0.5), center=False),\n",
    ")\n",
    "\n",
    "def new_renderer():\n",
    "    return Render(render_cfg)"
   ]
  },
  {
   "cell_type": "code",
   "execution_count": null,
   "metadata": {},
   "outputs": [],
   "source": [
    "render = new_renderer()"
   ]
  },
  {
   "cell_type": "code",
   "execution_count": null,
   "metadata": {},
   "outputs": [],
   "source": [
    "target_width = 144\n",
    "\n",
    "def generate_img():\n",
    "    img, label = render()\n",
    "\n",
    "    # random flip\n",
    "    if np.random.uniform(0, 1) > 0.5:\n",
    "        img = 255 - img\n",
    "\n",
    "    img = cv2.resize(img, (target_width, 32))\n",
    "\n",
    "    return img, label"
   ]
  },
  {
   "cell_type": "code",
   "execution_count": null,
   "metadata": {},
   "outputs": [],
   "source": [
    "from PIL import Image\n",
    "\n",
    "def show_img(img, label=None, save=False):\n",
    "    plt.imshow(img)\n",
    "    plt.ylim(32, 0)\n",
    "    if label is not None:\n",
    "        plt.title(label)\n",
    "\n",
    "    if save:\n",
    "        img = Image.fromarray(img)\n",
    "        img.save('123.jpg')"
   ]
  },
  {
   "cell_type": "code",
   "execution_count": null,
   "metadata": {
    "tags": []
   },
   "outputs": [],
   "source": [
    "img, label = generate_img()\n",
    "\n",
    "show_img(img, label, save=True)"
   ]
  },
  {
   "cell_type": "code",
   "execution_count": null,
   "metadata": {},
   "outputs": [],
   "source": [
    "from tqdm import tqdm, trange\n",
    "import multiprocessing.dummy as mp\n",
    "import gc\n",
    "\n",
    "cnt = 2000000\n",
    "\n",
    "def loop_body(i):\n",
    "    img, label = generate_img()\n",
    "    data[i] = img\n",
    "    tgt[i] = label\n",
    "\n",
    "for i in range(2):\n",
    "    data, tgt = np.zeros([cnt, 32, 144], dtype='uint8'), [None] * cnt\n",
    "\n",
    "    with mp.Pool(8) as p:\n",
    "        with tqdm(total=cnt) as pbar:\n",
    "            for _ in p.imap_unordered(loop_body, range(cnt)):\n",
    "                pbar.update()\n",
    "\n",
    "    dataset = RecognizationDataset(data, tgt)\n",
    "    dataset.to_pickle(f'synth_{i}.pkl')"
   ]
  },
  {
   "cell_type": "code",
   "execution_count": null,
   "metadata": {},
   "outputs": [],
   "source": []
  }
 ]
}