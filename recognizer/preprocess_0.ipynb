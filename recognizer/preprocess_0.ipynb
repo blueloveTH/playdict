{
 "metadata": {
  "language_info": {
   "codemirror_mode": {
    "name": "ipython",
    "version": 3
   },
   "file_extension": ".py",
   "mimetype": "text/x-python",
   "name": "python",
   "nbconvert_exporter": "python",
   "pygments_lexer": "ipython3",
   "version": "3.8.5"
  },
  "orig_nbformat": 2,
  "kernelspec": {
   "name": "python385jvsc74a57bd069ae1faf8d071295817930cd4dd112d51035d617709be1afa53f8ae3e70204c7",
   "display_name": "Python 3.8.5 64-bit ('data_science': conda)"
  }
 },
 "nbformat": 4,
 "nbformat_minor": 2,
 "cells": [
  {
   "cell_type": "code",
   "execution_count": 4,
   "metadata": {},
   "outputs": [],
   "source": [
    "import os\n",
    "\n",
    "tag = 'train'\n",
    "\n",
    "with open(f\"mjsynth/90kDICT32px/annotation_{tag}.txt\") as f:\n",
    "    lines = f.readlines()"
   ]
  },
  {
   "cell_type": "code",
   "execution_count": 5,
   "metadata": {},
   "outputs": [
    {
     "output_type": "stream",
     "name": "stderr",
     "text": [
      "100%|██████████| 891927/891927 [00:00<00:00, 928647.54it/s]\n"
     ]
    }
   ],
   "source": [
    "from tqdm import tqdm\n",
    "import pandas as pd\n",
    "\n",
    "path_list, tgt_list = [], []\n",
    "\n",
    "df = pd.DataFrame(columns=['path', 'tgt'])\n",
    "\n",
    "for i, l in enumerate(tqdm(lines)):\n",
    "    path, _ = l.split(' ')\n",
    "    path = path[2:]\n",
    "    label = path.split('_')[1]\n",
    "    path_list.append(path)\n",
    "    tgt_list.append(label)\n",
    "\n",
    "df['path'] = path_list\n",
    "df['tgt'] = tgt_list"
   ]
  },
  {
   "cell_type": "code",
   "execution_count": 2,
   "metadata": {},
   "outputs": [],
   "source": [
    "if not os.path.exists(\"preprocessed\"):\n",
    "    os.makedirs(\"preprocessed\")"
   ]
  },
  {
   "cell_type": "code",
   "execution_count": 6,
   "metadata": {},
   "outputs": [],
   "source": [
    "df.to_csv(f\"preprocessed/annotation_{tag}.csv\", index=False)"
   ]
  }
 ]
}