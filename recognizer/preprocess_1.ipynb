{
 "metadata": {
  "language_info": {
   "codemirror_mode": {
    "name": "ipython",
    "version": 3
   },
   "file_extension": ".py",
   "mimetype": "text/x-python",
   "name": "python",
   "nbconvert_exporter": "python",
   "pygments_lexer": "ipython3",
   "version": "3.8.5"
  },
  "orig_nbformat": 2,
  "kernelspec": {
   "name": "python385jvsc74a57bd069ae1faf8d071295817930cd4dd112d51035d617709be1afa53f8ae3e70204c7",
   "display_name": "Python 3.8.5 64-bit ('data_science': conda)"
  }
 },
 "nbformat": 4,
 "nbformat_minor": 2,
 "cells": [
  {
   "cell_type": "code",
   "execution_count": 1,
   "metadata": {},
   "outputs": [
    {
     "output_type": "execute_result",
     "data": {
      "text/plain": [
       "'1.8.1'"
      ]
     },
     "metadata": {},
     "execution_count": 1
    }
   ],
   "source": [
    "import torch\n",
    "import torch.nn as nn\n",
    "import pandas as pd\n",
    "import cv2\n",
    "import numpy as np\n",
    "from tqdm import tqdm\n",
    "import torchvision\n",
    "from tokenization import Tokenizer\n",
    "\n",
    "torch.__version__"
   ]
  },
  {
   "cell_type": "code",
   "execution_count": 2,
   "metadata": {},
   "outputs": [],
   "source": [
    "from functools import partial\n",
    "\n",
    "data_path = \"../mjsynth/90kDICT32px\"\n",
    "\n",
    "train_labels = pd.read_csv(\"preprocessed/annotation_train.csv\")\n",
    "train_labels['path'] = train_labels['path'].apply(lambda x: f'{data_path}/{x}')\n",
    "train_labels['tgt'] = train_labels['tgt'].astype('str')"
   ]
  },
  {
   "cell_type": "code",
   "execution_count": 3,
   "metadata": {},
   "outputs": [
    {
     "output_type": "execute_result",
     "data": {
      "text/plain": [
       "                                                path              tgt\n",
       "0   ../mjsynth/90kDICT32px/2425/1/115_Lube_45484.jpg             Lube\n",
       "1  ../mjsynth/90kDICT32px/2425/1/114_Spencerian_7...       Spencerian\n",
       "2  ../mjsynth/90kDICT32px/2425/1/113_accommodatin...  accommodatingly\n",
       "3  ../mjsynth/90kDICT32px/2425/1/112_CARPENTER_11...        CARPENTER\n",
       "4  ../mjsynth/90kDICT32px/2425/1/111_REGURGITATIN...    REGURGITATING"
      ],
      "text/html": "<div>\n<style scoped>\n    .dataframe tbody tr th:only-of-type {\n        vertical-align: middle;\n    }\n\n    .dataframe tbody tr th {\n        vertical-align: top;\n    }\n\n    .dataframe thead th {\n        text-align: right;\n    }\n</style>\n<table border=\"1\" class=\"dataframe\">\n  <thead>\n    <tr style=\"text-align: right;\">\n      <th></th>\n      <th>path</th>\n      <th>tgt</th>\n    </tr>\n  </thead>\n  <tbody>\n    <tr>\n      <th>0</th>\n      <td>../mjsynth/90kDICT32px/2425/1/115_Lube_45484.jpg</td>\n      <td>Lube</td>\n    </tr>\n    <tr>\n      <th>1</th>\n      <td>../mjsynth/90kDICT32px/2425/1/114_Spencerian_7...</td>\n      <td>Spencerian</td>\n    </tr>\n    <tr>\n      <th>2</th>\n      <td>../mjsynth/90kDICT32px/2425/1/113_accommodatin...</td>\n      <td>accommodatingly</td>\n    </tr>\n    <tr>\n      <th>3</th>\n      <td>../mjsynth/90kDICT32px/2425/1/112_CARPENTER_11...</td>\n      <td>CARPENTER</td>\n    </tr>\n    <tr>\n      <th>4</th>\n      <td>../mjsynth/90kDICT32px/2425/1/111_REGURGITATIN...</td>\n      <td>REGURGITATING</td>\n    </tr>\n  </tbody>\n</table>\n</div>"
     },
     "metadata": {},
     "execution_count": 3
    }
   ],
   "source": [
    "train_labels.head()"
   ]
  },
  {
   "cell_type": "code",
   "execution_count": 4,
   "metadata": {},
   "outputs": [
    {
     "output_type": "stream",
     "name": "stdout",
     "text": [
      "{'<PAD>': 0, '<START>': 1, '<END>': 2, '0': 3, '1': 4, '2': 5, '3': 6, '4': 7, '5': 8, '6': 9, '7': 10, '8': 11, '9': 12, ' ': 13, 'A': 14, 'B': 15, 'C': 16, 'D': 17, 'E': 18, 'F': 19, 'G': 20, 'H': 21, 'I': 22, 'J': 23, 'K': 24, 'L': 25, 'M': 26, 'N': 27, 'O': 28, 'P': 29, 'Q': 30, 'R': 31, 'S': 32, 'T': 33, 'U': 34, 'V': 35, 'W': 36, 'X': 37, 'Y': 38, 'Z': 39, 'a': 40, 'b': 41, 'c': 42, 'd': 43, 'e': 44, 'f': 45, 'g': 46, 'h': 47, 'i': 48, 'j': 49, 'k': 50, 'l': 51, 'm': 52, 'n': 53, 'o': 54, 'p': 55, 'q': 56, 'r': 57, 's': 58, 't': 59, 'u': 60, 'v': 61, 'w': 62, 'x': 63, 'y': 64, 'z': 65}\n"
     ]
    },
    {
     "output_type": "execute_result",
     "data": {
      "text/plain": [
       "66"
      ]
     },
     "metadata": {},
     "execution_count": 4
    }
   ],
   "source": [
    "tokenizer = Tokenizer()\n",
    "tokenizer.vocab_size"
   ]
  },
  {
   "cell_type": "code",
   "execution_count": 5,
   "metadata": {},
   "outputs": [
    {
     "output_type": "stream",
     "name": "stderr",
     "text": [
      "100%|██████████| 7224612/7224612 [00:34<00:00, 208946.94it/s]\n"
     ]
    }
   ],
   "source": [
    "tqdm.pandas()\n",
    "\n",
    "train_labels['tgt'] = train_labels['tgt'].progress_apply(lambda x: tokenizer.string_to_indices(x))"
   ]
  },
  {
   "cell_type": "code",
   "execution_count": 6,
   "metadata": {},
   "outputs": [
    {
     "output_type": "stream",
     "name": "stderr",
     "text": [
      "100%|██████████| 7224612/7224612 [00:06<00:00, 1041590.48it/s]\n"
     ]
    }
   ],
   "source": [
    "train_labels['tgt_len'] = train_labels['tgt'].progress_apply(lambda x:len(x))"
   ]
  },
  {
   "cell_type": "code",
   "execution_count": 7,
   "metadata": {},
   "outputs": [
    {
     "output_type": "execute_result",
     "data": {
      "text/plain": [
       "                                                path  \\\n",
       "0   ../mjsynth/90kDICT32px/2425/1/115_Lube_45484.jpg   \n",
       "1  ../mjsynth/90kDICT32px/2425/1/114_Spencerian_7...   \n",
       "2  ../mjsynth/90kDICT32px/2425/1/113_accommodatin...   \n",
       "3  ../mjsynth/90kDICT32px/2425/1/112_CARPENTER_11...   \n",
       "4  ../mjsynth/90kDICT32px/2425/1/111_REGURGITATIN...   \n",
       "\n",
       "                                                 tgt  tgt_len  \n",
       "0                             [1, 25, 60, 41, 44, 2]        6  \n",
       "1     [1, 32, 55, 44, 53, 42, 44, 57, 48, 40, 53, 2]       12  \n",
       "2  [1, 40, 42, 42, 54, 52, 52, 54, 43, 40, 59, 48...       17  \n",
       "3         [1, 16, 14, 31, 29, 18, 27, 33, 18, 31, 2]       11  \n",
       "4  [1, 31, 18, 20, 34, 31, 20, 22, 33, 14, 33, 22...       15  "
      ],
      "text/html": "<div>\n<style scoped>\n    .dataframe tbody tr th:only-of-type {\n        vertical-align: middle;\n    }\n\n    .dataframe tbody tr th {\n        vertical-align: top;\n    }\n\n    .dataframe thead th {\n        text-align: right;\n    }\n</style>\n<table border=\"1\" class=\"dataframe\">\n  <thead>\n    <tr style=\"text-align: right;\">\n      <th></th>\n      <th>path</th>\n      <th>tgt</th>\n      <th>tgt_len</th>\n    </tr>\n  </thead>\n  <tbody>\n    <tr>\n      <th>0</th>\n      <td>../mjsynth/90kDICT32px/2425/1/115_Lube_45484.jpg</td>\n      <td>[1, 25, 60, 41, 44, 2]</td>\n      <td>6</td>\n    </tr>\n    <tr>\n      <th>1</th>\n      <td>../mjsynth/90kDICT32px/2425/1/114_Spencerian_7...</td>\n      <td>[1, 32, 55, 44, 53, 42, 44, 57, 48, 40, 53, 2]</td>\n      <td>12</td>\n    </tr>\n    <tr>\n      <th>2</th>\n      <td>../mjsynth/90kDICT32px/2425/1/113_accommodatin...</td>\n      <td>[1, 40, 42, 42, 54, 52, 52, 54, 43, 40, 59, 48...</td>\n      <td>17</td>\n    </tr>\n    <tr>\n      <th>3</th>\n      <td>../mjsynth/90kDICT32px/2425/1/112_CARPENTER_11...</td>\n      <td>[1, 16, 14, 31, 29, 18, 27, 33, 18, 31, 2]</td>\n      <td>11</td>\n    </tr>\n    <tr>\n      <th>4</th>\n      <td>../mjsynth/90kDICT32px/2425/1/111_REGURGITATIN...</td>\n      <td>[1, 31, 18, 20, 34, 31, 20, 22, 33, 14, 33, 22...</td>\n      <td>15</td>\n    </tr>\n  </tbody>\n</table>\n</div>"
     },
     "metadata": {},
     "execution_count": 7
    }
   ],
   "source": [
    "train_labels.head()"
   ]
  },
  {
   "cell_type": "code",
   "execution_count": 8,
   "metadata": {},
   "outputs": [],
   "source": [
    "train_labels.to_pickle('preprocessed/train_labels.pkl', protocol=4)"
   ]
  },
  {
   "cell_type": "code",
   "execution_count": 9,
   "metadata": {},
   "outputs": [
    {
     "output_type": "execute_result",
     "data": {
      "text/plain": [
       "(25, 10.130945301976078)"
      ]
     },
     "metadata": {},
     "execution_count": 9
    }
   ],
   "source": [
    "train_labels['tgt_len'].max(), train_labels['tgt_len'].mean()"
   ]
  },
  {
   "cell_type": "code",
   "execution_count": null,
   "metadata": {},
   "outputs": [],
   "source": [
    "import pickle\n",
    "\n",
    "img_list = []\n",
    "idx_list = []\n",
    "\n",
    "path_list = list(train_labels['path'])\n",
    "idx = list(train_labels.index)\n",
    "np.random.seed(42)\n",
    "np.random.shuffle(idx)\n",
    "\n",
    "del train_labels\n",
    "gc.collect()\n",
    "\n",
    "part_id = 0\n",
    "for i in tqdm(idx):\n",
    "    img = cv2.imread(path_list[i], cv2.IMREAD_GRAYSCALE)\n",
    "    if img is None:\n",
    "        continue\n",
    "    else:\n",
    "        img_list.append(img)\n",
    "        idx_list.append(i)\n",
    "\n",
    "        if len(idx_list) == 2000000:\n",
    "            with open(f'preprocessed/train_part_{part_id}.pkl', 'wb') as f:\n",
    "                pickle.dump((img_list, idx_list), file=f)\n",
    "\n",
    "            img_list, idx_list = [], []\n",
    "            part_id += 1"
   ]
  }
 ]
}