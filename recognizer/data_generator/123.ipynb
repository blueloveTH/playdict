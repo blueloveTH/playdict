{
 "metadata": {
  "language_info": {
   "codemirror_mode": {
    "name": "ipython",
    "version": 3
   },
   "file_extension": ".py",
   "mimetype": "text/x-python",
   "name": "python",
   "nbconvert_exporter": "python",
   "pygments_lexer": "ipython3",
   "version": "3.8.5"
  },
  "orig_nbformat": 2,
  "kernelspec": {
   "name": "python385jvsc74a57bd084a2fa02924ab2929e184a48ba4f21acbac5d9f977ed8020b9469a8799c91ba1",
   "display_name": "Python 3.8.5 64-bit ('ocr': conda)"
  }
 },
 "nbformat": 4,
 "nbformat_minor": 2,
 "cells": [
  {
   "cell_type": "code",
   "execution_count": 1,
   "metadata": {},
   "outputs": [],
   "source": [
    "import sys\n",
    "\n",
    "sys.path.append('../')\n",
    "\n",
    "from playdict_ocr.word_generator import WordGenerator"
   ]
  },
  {
   "cell_type": "code",
   "execution_count": 2,
   "metadata": {},
   "outputs": [
    {
     "output_type": "execute_result",
     "data": {
      "text/plain": [
       "'ABCDEFGHIJKLMNOPQRSTUVWXYZabcdefghijklmnopqrstuvwxyz~$%&@0123456789* -([)]\"!,.:;?'"
      ]
     },
     "metadata": {},
     "execution_count": 2
    }
   ],
   "source": [
    "wg = WordGenerator()\n",
    "\n",
    "''.join(wg.get_all_characters())"
   ]
  },
  {
   "cell_type": "code",
   "execution_count": 3,
   "metadata": {},
   "outputs": [],
   "source": [
    "HEX = ['0', '1', '2', '3', '4', '5', '6', '7', '8', '9', 'A', 'B', 'C', 'D', 'E', 'F']\n",
    "\n",
    "def random_color():\n",
    "    return '#' + ''.join([random.choice(HEX) for _ in range(2)]*3)"
   ]
  },
  {
   "cell_type": "code",
   "execution_count": 4,
   "metadata": {},
   "outputs": [
    {
     "output_type": "stream",
     "name": "stdout",
     "text": [
      "Missing modules for handwritten text generation.\n"
     ]
    }
   ],
   "source": [
    "import matplotlib.pyplot as plt\n",
    "import random\n",
    "from trdg.data_generator import FakeTextDataGenerator\n",
    "from PIL.ImageFont import ImageFont, FreeTypeFont\n",
    "\n",
    "class FontManager:\n",
    "    def __init__(self, font_dir='font'):\n",
    "        self.path_list = []\n",
    "        for file in os.listdir(font_dir):\n",
    "            self.path_list.append(f'{font_dir}/{file}')\n",
    "    \n",
    "    def get_font(self):\n",
    "        path = random.choice(self.path_list)\n",
    "        return path\n",
    "\n",
    "font_manager = FontManager()\n",
    "\n",
    "\n",
    "def generate():\n",
    "    label = wg.generate_word()\n",
    "    return FakeTextDataGenerator.generate(\n",
    "        index=0, text=label, font=font_manager.get_font(), out_dir=None, size=64, extension=None,\n",
    "        skewing_angle=random.randint(0, 5), random_skew=True,\n",
    "        blur=0, random_blur=False,\n",
    "        background_type=random.randint(0, 2), distorsion_type=random.randint(0, 2),\n",
    "        distorsion_orientation=0, is_handwritten=False, name_format=0, width=-1, alignment=1,\n",
    "        text_color=random_color(), orientation=0, space_width=1.0, character_spacing=0,\n",
    "        margins=(0,0,0,0), fit=False, output_mask=False, word_split=False, image_dir=None,\n",
    "        stroke_width=0, stroke_fill=random_color(), image_mode=\"RGB\"\n",
    "        ), label"
   ]
  },
  {
   "cell_type": "code",
   "execution_count": 10,
   "metadata": {},
   "outputs": [
    {
     "output_type": "stream",
     "name": "stdout",
     "text": [
      "The slowest run took 12.10 times longer than the fastest. This could mean that an intermediate result is being cached.\n94.6 ms ± 44.6 ms per loop (mean ± std. dev. of 7 runs, 10 loops each)\n"
     ]
    }
   ],
   "source": [
    "%%timeit\n",
    "\n",
    "img, label = generate()\n"
   ]
  },
  {
   "cell_type": "code",
   "execution_count": null,
   "metadata": {},
   "outputs": [],
   "source": [
    "plt.imshow(img)\n",
    "plt.title(label)"
   ]
  }
 ]
}