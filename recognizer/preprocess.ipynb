{
 "metadata": {
  "language_info": {
   "codemirror_mode": {
    "name": "ipython",
    "version": 3
   },
   "file_extension": ".py",
   "mimetype": "text/x-python",
   "name": "python",
   "nbconvert_exporter": "python",
   "pygments_lexer": "ipython3",
   "version": "3.8.5"
  },
  "orig_nbformat": 2,
  "kernelspec": {
   "name": "python385jvsc74a57bd069ae1faf8d071295817930cd4dd112d51035d617709be1afa53f8ae3e70204c7",
   "display_name": "Python 3.8.5 64-bit ('data_science': conda)"
  }
 },
 "nbformat": 4,
 "nbformat_minor": 2,
 "cells": [
  {
   "cell_type": "code",
   "execution_count": 1,
   "metadata": {},
   "outputs": [],
   "source": [
    "from playdict_ocr.datasets import convert_mjsynth_to_dataset, RecognizationDataset"
   ]
  },
  {
   "cell_type": "code",
   "execution_count": 2,
   "metadata": {},
   "outputs": [
    {
     "output_type": "stream",
     "name": "stderr",
     "text": [
      " 58%|█████▊    | 4197014/7224612 [44:40<32:49, 1536.86it/s]"
     ]
    }
   ],
   "source": [
    "for tag in ['train', 'val', 'test']:\n",
    "    convert_mjsynth_to_dataset(\n",
    "        f'mjsynth/90kDICT32px/annotation_{tag}.txt', output_file=f'preprocessed/{tag}_data.pkl')"
   ]
  }
 ]
}