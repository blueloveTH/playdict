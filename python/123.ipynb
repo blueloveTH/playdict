{
 "metadata": {
  "language_info": {
   "codemirror_mode": {
    "name": "ipython",
    "version": 3
   },
   "file_extension": ".py",
   "mimetype": "text/x-python",
   "name": "python",
   "nbconvert_exporter": "python",
   "pygments_lexer": "ipython3",
   "version": "3.8.5"
  },
  "orig_nbformat": 2,
  "kernelspec": {
   "name": "python385jvsc74a57bd069ae1faf8d071295817930cd4dd112d51035d617709be1afa53f8ae3e70204c7",
   "display_name": "Python 3.8.5 64-bit ('data_science': conda)"
  }
 },
 "nbformat": 4,
 "nbformat_minor": 2,
 "cells": [
  {
   "cell_type": "code",
   "execution_count": 9,
   "metadata": {},
   "outputs": [],
   "source": [
    "import requests\n",
    "\n",
    "query = 'return'\n",
    "url = f'https://cn.bing.com/dict/clientsearch?mkt=zh-CN&setLang=zh&q={query}'\n",
    "r = requests.get(url)\n",
    "\n",
    "content = r.text"
   ]
  },
  {
   "cell_type": "code",
   "execution_count": 10,
   "metadata": {},
   "outputs": [],
   "source": [
    "pattern = '<div class=\"client_def_container\">'\n",
    "idx = content.find(pattern)\n",
    "\n",
    "second_idx = content.find(pattern, idx+len(pattern))\n",
    "if second_idx > 0:\n",
    "    content = content[:second_idx]"
   ]
  },
  {
   "cell_type": "code",
   "execution_count": 11,
   "metadata": {},
   "outputs": [
    {
     "output_type": "execute_result",
     "data": {
      "text/plain": [
       "[\"美:&#160;[rɪ'tɜrn] \", \"英:&#160;[rɪ'tɜː(r)n] \"]"
      ]
     },
     "metadata": {},
     "execution_count": 11
    }
   ],
   "source": [
    "import re\n",
    "\n",
    "pronunciation_matches = re.findall('<div class=\"client_def_hd_pn\" lang=\"en\">(.*?)</div>', content)\n",
    "pronunciation_matches"
   ]
  },
  {
   "cell_type": "code",
   "execution_count": 24,
   "metadata": {},
   "outputs": [
    {
     "output_type": "execute_result",
     "data": {
      "text/plain": [
       "[('n.', '返回；回报；回来；收益'), ('v.', '返回；回报；回来；恢复'), ('网络', '归还；回归；返回值')]"
      ]
     },
     "metadata": {},
     "execution_count": 24
    }
   ],
   "source": [
    "re.findall('<div class=\"client_def_bar\">.*?<span class=\"client_def_title[_web]*\">(.*?)</span>.*?<span class=\"client_def_list_word_bar\">(.*?)</span>', content)"
   ]
  },
  {
   "cell_type": "code",
   "execution_count": 16,
   "metadata": {},
   "outputs": [
    {
     "output_type": "execute_result",
     "data": {
      "text/plain": [
       "['n.', 'v.']"
      ]
     },
     "metadata": {},
     "execution_count": 16
    }
   ],
   "source": [
    "title_matches = re.findall('<span class=\"client_def_title[_web]?\">(.*?)</span>', content)\n",
    "title_matches"
   ]
  },
  {
   "cell_type": "code",
   "execution_count": 13,
   "metadata": {},
   "outputs": [
    {
     "output_type": "execute_result",
     "data": {
      "text/plain": [
       "['返回；回报；回来；收益', '返回；回报；回来；恢复', '归还；回归；返回值']"
      ]
     },
     "metadata": {},
     "execution_count": 13
    }
   ],
   "source": [
    "word_matches = re.findall('<span class=\"client_def_list_word_bar\">(.*?)</span>', content)\n",
    "word_matches"
   ]
  },
  {
   "cell_type": "code",
   "execution_count": null,
   "metadata": {},
   "outputs": [],
   "source": []
  },
  {
   "cell_type": "code",
   "execution_count": null,
   "metadata": {},
   "outputs": [],
   "source": [
    "from bs4 import BeautifulSoup\n",
    "\n",
    "soup = BeautifulSoup(r.text, 'html.parser')"
   ]
  },
  {
   "cell_type": "code",
   "execution_count": null,
   "metadata": {},
   "outputs": [],
   "source": []
  },
  {
   "cell_type": "code",
   "execution_count": null,
   "metadata": {},
   "outputs": [],
   "source": [
    "pronunciation_list = soup.select('.client_def_hd_pn')\n",
    "for p in pronunciation_list:\n",
    "    print(p.text)"
   ]
  },
  {
   "cell_type": "code",
   "execution_count": null,
   "metadata": {},
   "outputs": [],
   "source": [
    "def_container = soup.select_one('.client_def_container')\r\n",
    "\r\n",
    "if def_container is None:\r\n",
    "    print('(No result)')\r\n",
    "else:\r\n",
    "    def_list = def_container.select('.client_def_bar')\r\n",
    "\r\n",
    "    for item in def_list:\r\n",
    "        spans = item.select('span')\r\n",
    "        assert len(spans) == 2\r\n",
    "        print([sp.text for sp in spans])"
   ]
  },
  {
   "cell_type": "code",
   "execution_count": null,
   "metadata": {},
   "outputs": [],
   "source": []
  }
 ]
}