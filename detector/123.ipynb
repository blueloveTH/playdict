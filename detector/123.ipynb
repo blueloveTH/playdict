{
 "metadata": {
  "language_info": {
   "codemirror_mode": {
    "name": "ipython",
    "version": 3
   },
   "file_extension": ".py",
   "mimetype": "text/x-python",
   "name": "python",
   "nbconvert_exporter": "python",
   "pygments_lexer": "ipython3",
   "version": "3.8.5"
  },
  "orig_nbformat": 2,
  "kernelspec": {
   "name": "python385jvsc74a57bd069ae1faf8d071295817930cd4dd112d51035d617709be1afa53f8ae3e70204c7",
   "display_name": "Python 3.8.5 64-bit ('data_science': conda)"
  }
 },
 "nbformat": 4,
 "nbformat_minor": 2,
 "cells": [
  {
   "cell_type": "code",
   "execution_count": null,
   "metadata": {},
   "outputs": [],
   "source": [
    "import sys\n",
    "import numpy as np\n",
    "import cv2\n",
    "\n",
    "import matplotlib.pyplot as plt"
   ]
  },
  {
   "cell_type": "code",
   "execution_count": null,
   "metadata": {},
   "outputs": [],
   "source": [
    "img = cv2.imread('code.png', cv2.IMREAD_GRAYSCALE)\n",
    "img = cv2.resize(img, (144*2, 32*2))\n",
    "\n",
    "print(img.shape)\n",
    "plt.imshow(img)"
   ]
  },
  {
   "cell_type": "code",
   "execution_count": null,
   "metadata": {},
   "outputs": [],
   "source": [
    "import torch\n",
    "import torch.nn as nn\n",
    "\n",
    "class Model(nn.Module):\n",
    "    def __init__(self):\n",
    "        super().__init__()\n",
    "        self.filter = nn.Sequential(\n",
    "            nn.MaxPool2d((5,11), 1, padding=(2,5)),\n",
    "            nn.MaxPool2d((5,7), 1, padding=(2,3)),\n",
    "        )\n",
    "\n",
    "    def forward(self, x):\n",
    "        x = x / 255.0\n",
    "        x = (x > x.mean()).float()\n",
    "        x = self.filter(x)\n",
    "        return (x > 0).int()\n",
    "\n",
    "model = Model()\n",
    "\n",
    "img = torch.from_numpy(img).unsqueeze_(0).unsqueeze_(0)\n",
    "\n",
    "print(img.shape)"
   ]
  },
  {
   "cell_type": "code",
   "execution_count": null,
   "metadata": {},
   "outputs": [],
   "source": [
    "import onnxruntime\n",
    "session = onnxruntime.InferenceSession(\"pooling.onnx\")\n",
    "img, = session.run([], {'x': img.numpy()})\n",
    "img.dtype, img.shape"
   ]
  },
  {
   "cell_type": "code",
   "execution_count": null,
   "metadata": {},
   "outputs": [],
   "source": [
    "torch.onnx.export(model.cpu(), img, 'pooling.onnx', input_names=['x'], output_names=['y'], opset_version=11)\n",
    "\n",
    "img = model(img)[0][0].numpy()\n",
    "img.dtype, img.shape"
   ]
  },
  {
   "cell_type": "code",
   "execution_count": null,
   "metadata": {},
   "outputs": [],
   "source": [
    "plt.imshow(img)"
   ]
  },
  {
   "cell_type": "code",
   "execution_count": null,
   "metadata": {},
   "outputs": [],
   "source": [
    "img = img.astype('uint8')*255\n",
    "\n",
    "region = []\n",
    "#  查找轮廓\n",
    "contours, *_ = cv2.findContours(img, cv2.RETR_TREE, cv2.CHAIN_APPROX_SIMPLE)  \n",
    "# 利用以上函数可以得到多个轮廓区域，存在一个列表中。\n",
    "#  筛选那些面积小的\n",
    "print(len(contours))\n",
    "for i in range(len(contours)):\n",
    "    # 遍历所有轮廓\n",
    "    # cnt是一个点集\n",
    "    cnt = contours[i]\n",
    "\n",
    "    # 计算该轮廓的面积\n",
    "    area = cv2.contourArea(cnt) \n",
    "\n",
    "    # 找到最小的矩形，该矩形可能有方向\n",
    "    rect = cv2.minAreaRect(cnt)\n",
    "    print (rect)\n",
    "\n",
    "    # box是四个点的坐标\n",
    "    box = cv2.boxPoints(rect)\n",
    "    box = np.int0(box)\n",
    "\n",
    "    # 计算高和宽\n",
    "    height = abs(box[0][1] - box[2][1])\n",
    "    width = abs(box[0][0] - box[2][0])\n",
    "\n",
    "    # 筛选那些太细的矩形，留下扁的\n",
    "    if(height > width or width < img.shape[1]/16):\n",
    "        continue\n",
    "\n",
    "    region.append(box)\n",
    "    \n",
    "color = cv2.cvtColor(img, cv2.COLOR_GRAY2RGB)"
   ]
  },
  {
   "cell_type": "code",
   "execution_count": null,
   "metadata": {},
   "outputs": [],
   "source": [
    "plt.imshow(img)\n",
    "for box in region:\n",
    "    # box [4, 2]\n",
    "    plt.plot(box[:,0], box[:,1], lw=4, c='white')\n",
    "    plt.plot(box[[0,-1],0], box[[0,-1],1], lw=4, c='white')"
   ]
  },
  {
   "cell_type": "code",
   "execution_count": null,
   "metadata": {},
   "outputs": [],
   "source": []
  }
 ]
}